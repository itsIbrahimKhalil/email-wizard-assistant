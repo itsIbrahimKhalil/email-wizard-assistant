{
 "cells": [
  {
   "cell_type": "markdown",
   "id": "95205462",
   "metadata": {},
   "source": [
    "# Email Wizard Assistant - RAG Implementation Notebook\n",
    "#\n",
    "# This notebook details the development and testing of the core Retrieval-Augmented Generation (RAG) pipeline."
   ]
  },
  {
   "cell_type": "markdown",
   "id": "17dde932",
   "metadata": {},
   "source": [
    "### 1. Setup and Imports\n",
    "### Make sure you have activated your virtual environment and installed dependencies from `requirements.txt`.\n",
    "### ```bash\n",
    "### pip install -r requirements.txt\n",
    "### ```\n",
    "### For local execution involving the Gemini API, ensure the `GOOGLE_API_KEY` environment variable is set *before* starting Jupyter Lab/Notebook:\n",
    "### ```bash\n",
    "### export GOOGLE_API_KEY=\"YOUR_API_KEY\" # Linux/macOS\n",
    "### set GOOGLE_API_KEY=\"YOUR_API_KEY\"   # Windows CMD\n",
    "### $env:GOOGLE_API_KEY=\"YOUR_API_KEY\" # Windows PowerShell\n",
    "### ```"
   ]
  },
  {
   "cell_type": "code",
   "execution_count": 1,
   "id": "b3a74804",
   "metadata": {
    "vscode": {
     "languageId": "plaintext"
    }
   },
   "outputs": [
    {
     "name": "stderr",
     "output_type": "stream",
     "text": [
      "C:\\Users\\ibrah\\OneDrive\\Documents\\mytask\\email-wizard-assistant\\venv\\Lib\\site-packages\\tqdm\\auto.py:21: TqdmWarning: IProgress not found. Please update jupyter and ipywidgets. See https://ipywidgets.readthedocs.io/en/stable/user_install.html\n",
      "  from .autonotebook import tqdm as notebook_tqdm\n"
     ]
    }
   ],
   "source": [
    "# Core Libraries\n",
    "import pandas as pd\n",
    "import numpy as np\n",
    "import json\n",
    "import os\n",
    "import time\n",
    "from sklearn.metrics.pairwise import cosine_similarity\n",
    "\n",
    "# Embedding Model Library\n",
    "from sentence_transformers import SentenceTransformer\n",
    "\n",
    "# LLM Library (Google Gemini)\n",
    "from google import genai"
   ]
  },
  {
   "cell_type": "markdown",
   "id": "030bc9ea",
   "metadata": {},
   "source": [
    "### 2. Configuration and Gemini Client Initialization"
   ]
  },
  {
   "cell_type": "code",
   "execution_count": null,
   "id": "774e6dfb",
   "metadata": {
    "vscode": {
     "languageId": "plaintext"
    }
   },
   "outputs": [
    {
     "name": "stdout",
     "output_type": "stream",
     "text": [
      "Gemini client initialized successfully for model access (using configured key). Target model: gemini-2.5-flash-preview-04-17\n"
     ]
    }
   ],
   "source": [
    "# --- Configuration ---\n",
    "EMBEDDING_MODEL_NAME = 'all-MiniLM-L6-v2'\n",
    "# Use a model compatible with your google-genai setup, e.g., 'gemini-pro'\n",
    "GEMINI_MODEL_NAME = 'gemini-2.5-flash-preview-04-17'\n",
    "EMAIL_DATA_PATH = 'data/emails.json'\n",
    "EMBEDDING_SAVE_PATH = 'data/email_embeddings.npy'\n",
    "\n",
    "# --- Initialize Gemini Client ---\n",
    "GEMINI_CLIENT = None\n",
    "API_KEY = os.environ.get(\"GOOGLE_API_KEY\")\n",
    "\n",
    "if not API_KEY:\n",
    "    print(\"WARNING: GOOGLE_API_KEY environment variable not set.\")\n",
    "    print(\"Gemini API calls will fail. Please set the environment variable and restart the kernel.\")\n",
    "else:\n",
    "    try:\n",
    "        # Using google-genai SDK client initialization\n",
    "        GEMINI_CLIENT = genai.Client(api_key=API_KEY)\n",
    "        print(f\"Gemini client initialized successfully for model access (using configured key). Target model: {GEMINI_MODEL_NAME}\")\n",
    "    except Exception as e:\n",
    "        print(f\"ERROR: Failed to initialize Gemini client: {e}\")\n",
    "        print(\"Please ensure your API key is valid and the environment variable is set correctly.\")\n",
    "        GEMINI_CLIENT = None # Ensure client is None if setup failed"
   ]
  },
  {
   "cell_type": "markdown",
   "id": "1e9675fa",
   "metadata": {},
   "source": [
    "### 3. Load and Prepare Email Dataset"
   ]
  },
  {
   "cell_type": "code",
   "execution_count": null,
   "id": "50f3fa0e",
   "metadata": {
    "vscode": {
     "languageId": "plaintext"
    }
   },
   "outputs": [],
   "source": [
    "emails_df = None\n",
    "try:\n",
    "    emails_df = pd.read_json(EMAIL_DATA_PATH)\n",
    "    # Combine subject and body for embedding\n",
    "    emails_df['full_text'] = emails_df['subject'] + \"\\n\\n\" + emails_df['body']\n",
    "    print(f\"Successfully loaded {len(emails_df)} emails from {EMAIL_DATA_PATH}.\")\n",
    "    print(emails_df.head())\n",
    "except FileNotFoundError:\n",
    "    print(f\"ERROR: Email data file not found at {EMAIL_DATA_PATH}\")\n",
    "except Exception as e:\n",
    "    print(f\"ERROR: Failed to load or process email data: {e}\")"
   ]
  },
  {
   "cell_type": "markdown",
   "id": "a6b6150d",
   "metadata": {},
   "source": [
    "### 4. Load Embedding Model and Embed Emails"
   ]
  },
  {
   "cell_type": "code",
   "execution_count": null,
   "id": "58d1e1db",
   "metadata": {
    "vscode": {
     "languageId": "plaintext"
    }
   },
   "outputs": [],
   "source": [
    "# --- Load Embedding Model ---\n",
    "sbert_model = None\n",
    "try:\n",
    "    sbert_model = SentenceTransformer(EMBEDDING_MODEL_NAME)\n",
    "    print(f\"Sentence transformer model '{EMBEDDING_MODEL_NAME}' loaded successfully.\")\n",
    "except Exception as e:\n",
    "    print(f\"ERROR: Failed to load sentence transformer model: {e}\")"
   ]
  },
  {
   "cell_type": "code",
   "execution_count": null,
   "id": "f2611c03",
   "metadata": {
    "vscode": {
     "languageId": "plaintext"
    }
   },
   "outputs": [],
   "source": [
    "# --- Embed Emails (Load if exists, otherwise generate and save) ---\n",
    "email_embeddings = np.array([]) # Initialize as empty\n",
    "\n",
    "if sbert_model is not None and emails_df is not None and not emails_df.empty:\n",
    "    if os.path.exists(EMBEDDING_SAVE_PATH):\n",
    "        try:\n",
    "            print(f\"Loading pre-computed embeddings from {EMBEDDING_SAVE_PATH}...\")\n",
    "            email_embeddings = np.load(EMBEDDING_SAVE_PATH)\n",
    "            print(f\"Loaded embeddings. Shape: {email_embeddings.shape}\")\n",
    "            if email_embeddings.shape[0] != len(emails_df):\n",
    "                print(\"WARNING: Number of embeddings does not match number of emails. Re-generating...\")\n",
    "                email_embeddings = np.array([]) # Force regeneration\n",
    "        except Exception as e:\n",
    "            print(f\"ERROR loading embeddings: {e}. Will attempt to regenerate.\")\n",
    "            email_embeddings = np.array([]) # Force regeneration\n",
    "\n",
    "    if email_embeddings.size == 0: # If loading failed or file didn't exist\n",
    "        try:\n",
    "            print(f\"Generating embeddings for {len(emails_df)} email texts...\")\n",
    "            email_contents_to_embed = emails_df['full_text'].tolist()\n",
    "            email_embeddings = sbert_model.encode(email_contents_to_embed)\n",
    "            print(f\"Embeddings generated. Shape: {email_embeddings.shape}\")\n",
    "            # Save the generated embeddings\n",
    "            os.makedirs(os.path.dirname(EMBEDDING_SAVE_PATH), exist_ok=True) # Ensure data dir exists\n",
    "            np.save(EMBEDDING_SAVE_PATH, email_embeddings)\n",
    "            print(f\"Embeddings saved to {EMBEDDING_SAVE_PATH}\")\n",
    "        except Exception as e:\n",
    "            print(f\"ERROR: Failed to generate or save embeddings: {e}\")\n",
    "            email_embeddings = np.array([]) # Ensure it's empty on failure\n",
    "else:\n",
    "    if sbert_model is None:\n",
    "        print(\"Skipping embedding generation: SBERT model not loaded.\")\n",
    "    if emails_df is None or emails_df.empty:\n",
    "        print(\"Skipping embedding generation: Email data not loaded.\")"
   ]
  }
 ],
 "metadata": {
  "kernelspec": {
   "display_name": "Python 3 (ipykernel)",
   "language": "python",
   "name": "python3"
  },
  "language_info": {
   "codemirror_mode": {
    "name": "ipython",
    "version": 3
   },
   "file_extension": ".py",
   "mimetype": "text/x-python",
   "name": "python",
   "nbconvert_exporter": "python",
   "pygments_lexer": "ipython3",
   "version": "3.11.2"
  }
 },
 "nbformat": 4,
 "nbformat_minor": 5
}
